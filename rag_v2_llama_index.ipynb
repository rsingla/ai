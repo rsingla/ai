{
 "cells": [
  {
   "cell_type": "code",
   "execution_count": null,
   "metadata": {},
   "outputs": [],
   "source": [
    "pip install llama-index openai pypdf"
   ]
  },
  {
   "cell_type": "code",
   "execution_count": 3,
   "metadata": {},
   "outputs": [],
   "source": [
    "from llama_index.core import Document, VectorStoreIndex"
   ]
  },
  {
   "cell_type": "code",
   "execution_count": 8,
   "metadata": {},
   "outputs": [
    {
     "name": "stdout",
     "output_type": "stream",
     "text": [
      "Rajeev Singla is a software developer.\n",
      "Yes, Rajeev Singla has two kids.\n",
      "Rajeev Singla has two kids.\n",
      "Yes.\n",
      "Rajeev enjoys sharing knowledge about new technology with others.\n",
      "The kids' ages are not specified in the context information provided.\n"
     ]
    }
   ],
   "source": [
    "documents = [\n",
    "    Document(text= \"My name is Rajeev Singla and i am a software developer\"),\n",
    "    Document(text= \"I love to learn new technology\"),\n",
    "    Document(text= \"I also like to share the knowledge around new technology to other\"),\n",
    "    Document(text= \"I have two kids\"),\n",
    "    Document(text= \"They are going to school\"),\n",
    "    Document(text= \"I live in united states of america\"),\n",
    "]\n",
    "\n",
    "index = VectorStoreIndex(documents)\n",
    "query_engine = index.as_query_engine()\n",
    "response = query_engine.query(\"What does rajeev singla do ?\")\n",
    "\n",
    "print(response)\n",
    "\n",
    "response = query_engine.query(\"Does rajeev singla have kids ?\")\n",
    "\n",
    "print(response)\n",
    "\n",
    "response = query_engine.query(\"how many kids rajeev singla have ? \")\n",
    "\n",
    "print(response)\n",
    "\n",
    "response = query_engine.query(\"Do the kids go to school ? \")\n",
    "\n",
    "print(response)\n",
    "\n",
    "response = query_engine.query(\"I think rajeev doesnt like to share information with others? is that true \")\n",
    "\n",
    "print(response)\n",
    "\n",
    "response = query_engine.query(\"How old are the kids ? \")\n",
    "\n",
    "print(response)"
   ]
  }
 ],
 "metadata": {
  "kernelspec": {
   "display_name": "Python 3",
   "language": "python",
   "name": "python3"
  },
  "language_info": {
   "codemirror_mode": {
    "name": "ipython",
    "version": 3
   },
   "file_extension": ".py",
   "mimetype": "text/x-python",
   "name": "python",
   "nbconvert_exporter": "python",
   "pygments_lexer": "ipython3",
   "version": "3.11.5"
  }
 },
 "nbformat": 4,
 "nbformat_minor": 2
}
