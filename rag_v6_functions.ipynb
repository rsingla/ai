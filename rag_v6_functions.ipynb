{
 "cells": [
  {
   "cell_type": "code",
   "execution_count": 2,
   "metadata": {},
   "outputs": [
    {
     "name": "stdout",
     "output_type": "stream",
     "text": [
      "Added user message to memory: What's the weather like in Miami?\n",
      "=== Calling Function ===\n",
      "Calling function: get_weather_for_city with args: {\"city\":\"Miami\"}\n",
      "Calling local get_weather_for_city for Miami\n",
      "Got output: {\"city\": \"Miami\", \"temperature\": 32}\n",
      "========================\n",
      "\n",
      "The current temperature in Miami is 32°C.\n"
     ]
    }
   ],
   "source": [
    "from llama_index.agent.openai import OpenAIAgent\n",
    "from llama_index.llms.openai import OpenAI\n",
    "from llama_index.core.tools import FunctionTool\n",
    "import json \n",
    "import random\n",
    "\n",
    "def get_weather_for_city(city):\n",
    "    \"\"\"Get the current weather in a given city\"\"\"\n",
    "    print(f\"Calling local get_weather_for_city for {city}\")\n",
    "    return json.dumps({\"city\": city, \"temperature\": random.randint(20,50)})\n",
    "\n",
    "llm = OpenAI(model=\"gpt-3.5-turbo-1106\")\n",
    "tool = FunctionTool.from_defaults(fn=get_weather_for_city)\n",
    "agent = OpenAIAgent.from_tools([tool], llm=llm, verbose=True)\n",
    "response = agent.chat(\n",
    "    \"What's the weather like in Miami?\"\n",
    ")\n",
    "\n",
    "print(response)"
   ]
  },
  {
   "cell_type": "code",
   "execution_count": 5,
   "metadata": {},
   "outputs": [
    {
     "name": "stdout",
     "output_type": "stream",
     "text": [
      "Added user message to memory: What's the weather like in Phoenix in ferenhite?\n",
      "=== Calling Function ===\n",
      "Calling function: get_weather_for_city with args: {\"city\":\"Phoenix\"}\n",
      "Calling local get_weather_for_city for Phoenix\n",
      "Got output: {\"city\": \"Phoenix\", \"temperature\": 29}\n",
      "========================\n",
      "\n",
      "The current temperature in Phoenix is 29°C, which is equivalent to 84.2°F.\n"
     ]
    }
   ],
   "source": [
    "response = agent.chat(\n",
    "    \"What's the weather like in Phoenix in ferenhite?\"\n",
    ")\n",
    "\n",
    "print(response)"
   ]
  },
  {
   "cell_type": "code",
   "execution_count": 7,
   "metadata": {},
   "outputs": [
    {
     "name": "stdout",
     "output_type": "stream",
     "text": [
      "Added user message to memory: Convert the weather in San Franciso from C to F?\n",
      "=== Calling Function ===\n",
      "Calling function: get_weather_for_city with args: {\"city\":\"San Francisco\"}\n",
      "Calling local get_weather_for_city for San Francisco\n",
      "Got output: {\"city\": \"San Francisco\", \"temperature\": 24}\n",
      "========================\n",
      "\n",
      "The current temperature in San Francisco is 24°C, which is equivalent to 75.2°F.\n"
     ]
    }
   ],
   "source": [
    "response = agent.chat(\n",
    "    \"Convert the weather in San Franciso from C to F?\"\n",
    ")\n",
    "print(response)"
   ]
  }
 ],
 "metadata": {
  "kernelspec": {
   "display_name": "Python 3",
   "language": "python",
   "name": "python3"
  },
  "language_info": {
   "codemirror_mode": {
    "name": "ipython",
    "version": 3
   },
   "file_extension": ".py",
   "mimetype": "text/x-python",
   "name": "python",
   "nbconvert_exporter": "python",
   "pygments_lexer": "ipython3",
   "version": "3.11.5"
  }
 },
 "nbformat": 4,
 "nbformat_minor": 2
}
